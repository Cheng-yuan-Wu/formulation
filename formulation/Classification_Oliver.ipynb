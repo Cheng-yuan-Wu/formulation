{
 "cells": [
  {
   "cell_type": "code",
   "execution_count": 59,
   "metadata": {},
   "outputs": [],
   "source": [
    "import pandas as pd\n",
    "import numpy as np\n",
    "import sklearn\n",
    "from sklearn.model_selection import train_test_split\n",
    "from sklearn.ensemble import RandomForestClassifier\n",
    "from sklearn.metrics import classification_report, accuracy_score"
   ]
  },
  {
   "cell_type": "code",
   "execution_count": 60,
   "metadata": {},
   "outputs": [],
   "source": [
    "raw_data = pd.read_csv('./data/FDA_APPROVED.csv')"
   ]
  },
  {
   "cell_type": "code",
   "execution_count": 61,
   "metadata": {},
   "outputs": [],
   "source": [
    "picked_data = pd.DataFrame({'Unchanged_excretion_in_urine':raw_data['% Excreted Unchanged in Urine'], \n",
    "     'cLogP':raw_data['CLogP'], 'HBA':raw_data['HBA'], 'HBD': raw_data['HBD'], \n",
    "                            'PSDA':raw_data['PSDA'], 'Formulation':raw_data['Formulation']})\n",
    "pick_data = picked_data.dropna()"
   ]
  },
  {
   "cell_type": "code",
   "execution_count": 62,
   "metadata": {},
   "outputs": [],
   "source": [
    "X = pick_data[['Unchanged_excretion_in_urine','cLogP','HBA', 'HBD', 'PSDA']]\n",
    "Y = pick_data['Formulation']"
   ]
  },
  {
   "cell_type": "code",
   "execution_count": 86,
   "metadata": {},
   "outputs": [],
   "source": [
    "#This Block is the initial classicifation prepare \n",
    "x_train, x_test, y_train, y_test = train_test_split(X, Y, test_size = 0.1, random_state = 1)\n",
    "RFC = RandomForestClassifier(n_estimators=100, random_state=2)\n",
    "Classicifation = RFC.fit(x_train, y_train)\n",
    "y_pred = Classicifation.predict(x_test)\n",
    "importance = pd.Series(Classicifation.feature_importances_,\n",
    "                       index=['Unchanged_excretion_in_urine','cLogP','HBA', 'HBD', 'PSDA']).sort_values(ascending=False)\n"
   ]
  },
  {
   "cell_type": "code",
   "execution_count": 88,
   "metadata": {},
   "outputs": [],
   "source": [
    "# This Block is basically same with last one, the difference is that we could set different x data and y data\n",
    "# which is the important users aspect\n",
    "def predict(X_data,Y_data):\n",
    "    \"\"\"\n",
    "    X_data: is the user choice data utilized to prepare to analyze the result\n",
    "    Y_data: is the desired result\n",
    "    rtype: print out the result\n",
    "    \"\"\"\n",
    "    x_train, x_test, y_train, y_test = train_test_split(X_data, Y_data, test_size = 0.1, random_state = 1)\n",
    "    RFC = RandomForestClassifier(n_estimators=100, random_state=2)\n",
    "    Classicifation = RFC.fit(x_train, y_train)\n",
    "    y_pred = Classicifation.predict(x_test)\n",
    "    print(\"Accuracy:\",accuracy_score(y_test, y_pred))\n",
    "    print(\"Feature Importance\", importance)\n",
    "    print(\"Classicifation report\", classification_report(y_test,y_pred))\n",
    "    print(\"The predict Classicifation for all \\n\", y_pred)"
   ]
  },
  {
   "cell_type": "code",
   "execution_count": 89,
   "metadata": {},
   "outputs": [],
   "source": [
    "def Choose_N_property_and_determine_new_accuracy(N,X_data,Y_data):#let user select first N's picks. \n",
    "    \"\"\"\n",
    "    pick the the most important N factors, let user pick \n",
    "    N: is the number of factors that users want to utilize\n",
    "    X_data: The data need to be inputed \n",
    "    Y_data: The data need to be output\n",
    "    return the new report based on the \n",
    "    \"\"\"\n",
    "    importance_df = pd.DataFrame(Classicifation.feature_importances_,\n",
    "                       index=['Unchanged_excretion_in_urine','cLogP','HBA', 'HBD', 'PSDA'],\n",
    "                                 columns = ['Value']).sort_values(by=['Value'],ascending=False)\n",
    "    indexlist = []\n",
    "    first_N_Picked = importance_df[:N]\n",
    "    for i in range(N):\n",
    "        indexlist.append(importance_df.index[i])\n",
    "    #return first_N_Picked\n",
    "    #return indexlist\n",
    "    predict(X_data[indexlist],Y_data)"
   ]
  },
  {
   "cell_type": "code",
   "execution_count": 95,
   "metadata": {},
   "outputs": [
    {
     "name": "stdout",
     "output_type": "stream",
     "text": [
      "Accuracy: 0.7272727272727273\n",
      "Feature Importance cLogP                           0.263385\n",
      "PSDA                            0.262081\n",
      "Unchanged_excretion_in_urine    0.192449\n",
      "HBA                             0.171676\n",
      "HBD                             0.110409\n",
      "dtype: float64\n",
      "Classicifation report               precision    recall  f1-score   support\n",
      "\n",
      "    capsules       0.50      0.11      0.18         9\n",
      "    solution       0.67      0.40      0.50        15\n",
      "     tablets       0.74      0.92      0.82        53\n",
      "\n",
      "    accuracy                           0.73        77\n",
      "   macro avg       0.64      0.48      0.50        77\n",
      "weighted avg       0.70      0.73      0.69        77\n",
      "\n",
      "The predict Classicifation for all \n",
      " ['tablets' 'tablets' 'tablets' 'tablets' 'tablets' 'tablets' 'tablets'\n",
      " 'tablets' 'tablets' 'tablets' 'solution' 'capsules' 'tablets' 'tablets'\n",
      " 'tablets' 'tablets' 'tablets' 'tablets' 'tablets' 'tablets' 'tablets'\n",
      " 'tablets' 'tablets' 'tablets' 'tablets' 'solution' 'tablets' 'tablets'\n",
      " 'tablets' 'tablets' 'tablets' 'solution' 'tablets' 'tablets' 'tablets'\n",
      " 'solution' 'tablets' 'tablets' 'tablets' 'solution' 'tablets' 'solution'\n",
      " 'tablets' 'tablets' 'tablets' 'tablets' 'tablets' 'tablets' 'tablets'\n",
      " 'tablets' 'tablets' 'tablets' 'tablets' 'tablets' 'tablets' 'tablets'\n",
      " 'solution' 'capsules' 'tablets' 'solution' 'tablets' 'tablets' 'tablets'\n",
      " 'tablets' 'tablets' 'tablets' 'tablets' 'tablets' 'tablets' 'solution'\n",
      " 'tablets' 'tablets' 'tablets' 'tablets' 'tablets' 'tablets' 'tablets']\n"
     ]
    }
   ],
   "source": [
    "Choose_N_property_and_determine_new_accuracy(5,pick_data[['Unchanged_excretion_in_urine','cLogP','HBA', 'HBD', 'PSDA']],pick_data['Formulation'])\n",
    "\n",
    "\n",
    "\n"
   ]
  },
  {
   "cell_type": "code",
   "execution_count": null,
   "metadata": {},
   "outputs": [],
   "source": []
  },
  {
   "cell_type": "code",
   "execution_count": null,
   "metadata": {},
   "outputs": [],
   "source": []
  }
 ],
 "metadata": {
  "kernelspec": {
   "display_name": "Python 3",
   "language": "python",
   "name": "python3"
  },
  "language_info": {
   "codemirror_mode": {
    "name": "ipython",
    "version": 3
   },
   "file_extension": ".py",
   "mimetype": "text/x-python",
   "name": "python",
   "nbconvert_exporter": "python",
   "pygments_lexer": "ipython3",
   "version": "3.7.4"
  }
 },
 "nbformat": 4,
 "nbformat_minor": 2
}
