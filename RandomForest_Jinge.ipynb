{
 "cells": [
  {
   "cell_type": "code",
   "execution_count": 1,
   "metadata": {},
   "outputs": [],
   "source": [
    "import pandas as pd\n",
    "from sklearn.ensemble import RandomForestClassifier\n",
    "from sklearn import metrics\n",
    "import numpy as np\n",
    "import matplotlib.pyplot as plt\n",
    "from sklearn.model_selection import train_test_split"
   ]
  },
  {
   "cell_type": "code",
   "execution_count": 2,
   "metadata": {},
   "outputs": [],
   "source": [
    "xls = pd.read_excel(\"/Users/stevexu/Desktop/DIRECT/formulation/formulation/data/Book1.xlsx\")"
   ]
  },
  {
   "cell_type": "code",
   "execution_count": 3,
   "metadata": {},
   "outputs": [
    {
     "data": {
      "text/html": [
       "<div>\n",
       "<style scoped>\n",
       "    .dataframe tbody tr th:only-of-type {\n",
       "        vertical-align: middle;\n",
       "    }\n",
       "\n",
       "    .dataframe tbody tr th {\n",
       "        vertical-align: top;\n",
       "    }\n",
       "\n",
       "    .dataframe thead th {\n",
       "        text-align: right;\n",
       "    }\n",
       "</style>\n",
       "<table border=\"1\" class=\"dataframe\">\n",
       "  <thead>\n",
       "    <tr style=\"text-align: right;\">\n",
       "      <th></th>\n",
       "      <th>Formulation</th>\n",
       "      <th>% Excreted Unchanged in Urine</th>\n",
       "      <th>CLogP</th>\n",
       "      <th>HBA</th>\n",
       "      <th>HBD</th>\n",
       "      <th>PSDA</th>\n",
       "      <th>random</th>\n",
       "    </tr>\n",
       "  </thead>\n",
       "  <tbody>\n",
       "    <tr>\n",
       "      <td>0</td>\n",
       "      <td>tablets</td>\n",
       "      <td>0.5</td>\n",
       "      <td>4.87</td>\n",
       "      <td>3</td>\n",
       "      <td>1</td>\n",
       "      <td>7.037348</td>\n",
       "      <td>0.385930</td>\n",
       "    </tr>\n",
       "    <tr>\n",
       "      <td>1</td>\n",
       "      <td>tablets</td>\n",
       "      <td>4.8</td>\n",
       "      <td>1.79</td>\n",
       "      <td>5</td>\n",
       "      <td>3</td>\n",
       "      <td>3.765801</td>\n",
       "      <td>0.020992</td>\n",
       "    </tr>\n",
       "    <tr>\n",
       "      <td>2</td>\n",
       "      <td>solution</td>\n",
       "      <td>70.0</td>\n",
       "      <td>-3.28</td>\n",
       "      <td>6</td>\n",
       "      <td>3</td>\n",
       "      <td>3.281447</td>\n",
       "      <td>0.664254</td>\n",
       "    </tr>\n",
       "    <tr>\n",
       "      <td>3</td>\n",
       "      <td>tablets</td>\n",
       "      <td>10.0</td>\n",
       "      <td>3.26</td>\n",
       "      <td>4</td>\n",
       "      <td>1</td>\n",
       "      <td>7.537279</td>\n",
       "      <td>0.309049</td>\n",
       "    </tr>\n",
       "    <tr>\n",
       "      <td>4</td>\n",
       "      <td>solution</td>\n",
       "      <td>1.0</td>\n",
       "      <td>3.72</td>\n",
       "      <td>2</td>\n",
       "      <td>2</td>\n",
       "      <td>4.826275</td>\n",
       "      <td>0.480006</td>\n",
       "    </tr>\n",
       "    <tr>\n",
       "      <td>...</td>\n",
       "      <td>...</td>\n",
       "      <td>...</td>\n",
       "      <td>...</td>\n",
       "      <td>...</td>\n",
       "      <td>...</td>\n",
       "      <td>...</td>\n",
       "      <td>...</td>\n",
       "    </tr>\n",
       "    <tr>\n",
       "      <td>776</td>\n",
       "      <td>solution</td>\n",
       "      <td>70.0</td>\n",
       "      <td>0.47</td>\n",
       "      <td>6</td>\n",
       "      <td>4</td>\n",
       "      <td>2.515862</td>\n",
       "      <td>0.231188</td>\n",
       "    </tr>\n",
       "    <tr>\n",
       "      <td>777</td>\n",
       "      <td>tablets</td>\n",
       "      <td>0.1</td>\n",
       "      <td>3.02</td>\n",
       "      <td>1</td>\n",
       "      <td>0</td>\n",
       "      <td>158.717915</td>\n",
       "      <td>0.821720</td>\n",
       "    </tr>\n",
       "    <tr>\n",
       "      <td>778</td>\n",
       "      <td>solution</td>\n",
       "      <td>6.6</td>\n",
       "      <td>-0.46</td>\n",
       "      <td>9</td>\n",
       "      <td>4</td>\n",
       "      <td>2.633529</td>\n",
       "      <td>0.366991</td>\n",
       "    </tr>\n",
       "    <tr>\n",
       "      <td>779</td>\n",
       "      <td>tablets</td>\n",
       "      <td>3.5</td>\n",
       "      <td>1.49</td>\n",
       "      <td>1</td>\n",
       "      <td>0</td>\n",
       "      <td>10.101438</td>\n",
       "      <td>0.162143</td>\n",
       "    </tr>\n",
       "    <tr>\n",
       "      <td>780</td>\n",
       "      <td>tablets</td>\n",
       "      <td>35.0</td>\n",
       "      <td>0.88</td>\n",
       "      <td>2</td>\n",
       "      <td>2</td>\n",
       "      <td>3.322539</td>\n",
       "      <td>0.035482</td>\n",
       "    </tr>\n",
       "  </tbody>\n",
       "</table>\n",
       "<p>781 rows × 7 columns</p>\n",
       "</div>"
      ],
      "text/plain": [
       "    Formulation  % Excreted Unchanged in Urine  CLogP  HBA  HBD        PSDA  \\\n",
       "0       tablets                            0.5   4.87    3    1    7.037348   \n",
       "1       tablets                            4.8   1.79    5    3    3.765801   \n",
       "2      solution                           70.0  -3.28    6    3    3.281447   \n",
       "3       tablets                           10.0   3.26    4    1    7.537279   \n",
       "4      solution                            1.0   3.72    2    2    4.826275   \n",
       "..          ...                            ...    ...  ...  ...         ...   \n",
       "776    solution                           70.0   0.47    6    4    2.515862   \n",
       "777     tablets                            0.1   3.02    1    0  158.717915   \n",
       "778    solution                            6.6  -0.46    9    4    2.633529   \n",
       "779     tablets                            3.5   1.49    1    0   10.101438   \n",
       "780     tablets                           35.0   0.88    2    2    3.322539   \n",
       "\n",
       "       random  \n",
       "0    0.385930  \n",
       "1    0.020992  \n",
       "2    0.664254  \n",
       "3    0.309049  \n",
       "4    0.480006  \n",
       "..        ...  \n",
       "776  0.231188  \n",
       "777  0.821720  \n",
       "778  0.366991  \n",
       "779  0.162143  \n",
       "780  0.035482  \n",
       "\n",
       "[781 rows x 7 columns]"
      ]
     },
     "execution_count": 3,
     "metadata": {},
     "output_type": "execute_result"
    }
   ],
   "source": [
    "xls"
   ]
  },
  {
   "cell_type": "code",
   "execution_count": 4,
   "metadata": {},
   "outputs": [],
   "source": [
    "X_train = xls[['% Excreted Unchanged in Urine','CLogP','HBA','HBD','PSDA']][:600]"
   ]
  },
  {
   "cell_type": "code",
   "execution_count": 5,
   "metadata": {},
   "outputs": [],
   "source": [
    "y_train = xls['Formulation'][:600]"
   ]
  },
  {
   "cell_type": "code",
   "execution_count": 6,
   "metadata": {},
   "outputs": [],
   "source": [
    "X_test = xls[['% Excreted Unchanged in Urine','CLogP','HBA','HBD','PSDA']][550:800]"
   ]
  },
  {
   "cell_type": "code",
   "execution_count": 7,
   "metadata": {},
   "outputs": [],
   "source": [
    "y_test = xls['Formulation'][550:800]"
   ]
  },
  {
   "cell_type": "code",
   "execution_count": 8,
   "metadata": {},
   "outputs": [
    {
     "data": {
      "text/plain": [
       "0       tablets\n",
       "1       tablets\n",
       "2      solution\n",
       "3       tablets\n",
       "4      solution\n",
       "         ...   \n",
       "595     tablets\n",
       "596     tablets\n",
       "597    capsules\n",
       "598     tablets\n",
       "599     tablets\n",
       "Name: Formulation, Length: 600, dtype: object"
      ]
     },
     "execution_count": 8,
     "metadata": {},
     "output_type": "execute_result"
    }
   ],
   "source": [
    "y_train"
   ]
  },
  {
   "cell_type": "code",
   "execution_count": 10,
   "metadata": {},
   "outputs": [],
   "source": [
    "X_train, X_test, y_train, y_test = train_test_split(xls[['% Excreted Unchanged in Urine','HBA','HBD','PSDA']],xls['Formulation'],test_size=0.15)"
   ]
  },
  {
   "cell_type": "code",
   "execution_count": 11,
   "metadata": {},
   "outputs": [],
   "source": [
    "def emmm(X_train,y_train,X_test,y_test,nlist):\n",
    "    for n in nlist:\n",
    "        jinge = RandomForestClassifier(n_estimators=n)\n",
    "        jinge.fit(X_train,y_train)\n",
    "        y_pred=jinge.predict(X_test)\n",
    "        a=metrics.accuracy_score(y_test,y_pred)\n",
    "        print(\"accuracy:\",a)\n",
    "        plt.scatter(n,a)\n",
    "    return\n",
    "# a function to calcualte the accuracy with arbitrary n and defined split"
   ]
  },
  {
   "cell_type": "code",
   "execution_count": 12,
   "metadata": {},
   "outputs": [],
   "source": [
    "def heng(percentage,nlist):\n",
    "    X_train, X_test, y_train, y_test = train_test_split(xls[['% Excreted Unchanged in Urine','CLogP','HBA','HBD']],xls['Formulation'],test_size=percentage)\n",
    "    a = emmm(X_train,y_train,X_test,y_test,nlist)\n",
    "    return\n",
    "# a function to calcualte the accuracy with arbitrary n and arbitrary split"
   ]
  },
  {
   "cell_type": "code",
   "execution_count": 13,
   "metadata": {
    "scrolled": true
   },
   "outputs": [
    {
     "name": "stdout",
     "output_type": "stream",
     "text": [
      "accuracy: 0.5949367088607594\n",
      "accuracy: 0.620253164556962\n",
      "accuracy: 0.6329113924050633\n",
      "accuracy: 0.620253164556962\n"
     ]
    },
    {
     "data": {
      "image/png": "[encoded data removed]",
      "text/plain": [
       "<Figure size 432x288 with 1 Axes>"
      ]
     },
     "metadata": {
      "needs_background": "light"
     },
     "output_type": "display_data"
    }
   ],
   "source": [
    "heng(0.1,[100,300,500,700])"
   ]
  },
  {
   "cell_type": "code",
   "execution_count": 100,
   "metadata": {},
   "outputs": [],
   "source": [
    "xls = pd.read_excel(\"/Users/stevexu/Desktop/DIRECT/formulation/formulation/data/Book1.xlsx\")"
   ]
  },
  {
   "cell_type": "code",
   "execution_count": 103,
   "metadata": {},
   "outputs": [],
   "source": [
    "def heng(percentage,nlist):\n",
    "    X_train, X_test, y_train, y_test = train_test_split(xls[['% Excreted Unchanged in Urine','CLogP','HBA','HBD','PSDA']],xls['Formulation'],test_size=percentage)\n",
    "    a = emmm(X_train,y_train,X_test,y_test,nlist)\n",
    "    return"
   ]
  },
  {
   "cell_type": "code",
   "execution_count": 106,
   "metadata": {
    "scrolled": true
   },
   "outputs": [
    {
     "name": "stdout",
     "output_type": "stream",
     "text": [
      "accuracy: 0.6560509554140127\n",
      "accuracy: 0.6496815286624203\n",
      "accuracy: 0.6496815286624203\n",
      "accuracy: 0.6560509554140127\n",
      "accuracy: 0.7156862745098039\n",
      "accuracy: 0.7058823529411765\n",
      "accuracy: 0.7156862745098039\n",
      "accuracy: 0.7107843137254902\n",
      "accuracy: 0.664\n",
      "accuracy: 0.672\n",
      "accuracy: 0.676\n",
      "accuracy: 0.676\n",
      "accuracy: 0.6801346801346801\n",
      "accuracy: 0.6801346801346801\n",
      "accuracy: 0.6734006734006734\n",
      "accuracy: 0.6835016835016835\n",
      "accuracy: 0.622093023255814\n",
      "accuracy: 0.625\n",
      "accuracy: 0.6308139534883721\n",
      "accuracy: 0.627906976744186\n",
      "accuracy: 0.6547314578005116\n",
      "accuracy: 0.6572890025575447\n",
      "accuracy: 0.6547314578005116\n",
      "accuracy: 0.6572890025575447\n"
     ]
    },
    {
     "data": {
      "image/png": "[encoded data removed]",
      "text/plain": [
       "<Figure size 432x288 with 1 Axes>"
      ]
     },
     "metadata": {
      "needs_background": "light"
     },
     "output_type": "display_data"
    }
   ],
   "source": [
    "for i in np.linspace(0.2,0.5,6):\n",
    "    heng(i,[500,1000,3000,5000])"
   ]
  },
  {
   "cell_type": "code",
   "execution_count": null,
   "metadata": {},
   "outputs": [],
   "source": []
  }
 ],
 "metadata": {
  "kernelspec": {
   "display_name": "Python 3",
   "language": "python",
   "name": "python3"
  },
  "language_info": {
   "codemirror_mode": {
    "name": "ipython",
    "version": 3
   },
   "file_extension": ".py",
   "mimetype": "text/x-python",
   "name": "python",
   "nbconvert_exporter": "python",
   "pygments_lexer": "ipython3",
   "version": "3.7.4"
  }
 },
 "nbformat": 4,
 "nbformat_minor": 2
}
